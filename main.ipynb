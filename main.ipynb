{
 "cells": [
  {
   "cell_type": "code",
   "execution_count": 1,
   "id": "a481eebb",
   "metadata": {},
   "outputs": [],
   "source": [
    "import os \n",
    "import random\n",
    "import numpy as np\n",
    "import torch\n",
    "import torch.nn as nn\n",
    "import torch.nn.functional as F\n",
    "\n",
    "from torch.utils.data import DataLoader\n",
    "from torch.utils.tensorboard import SummaryWriter\n",
    "from einops.layers.torch import Rearrange\n",
    "from tqdm.notebook import tqdm\n",
    "from termcolor import cprint"
   ]
  },
  {
   "cell_type": "code",
   "execution_count": 2,
   "id": "9ccc1bc0",
   "metadata": {},
   "outputs": [
    {
     "name": "stdout",
     "output_type": "stream",
     "text": [
      "Using device: mps\n"
     ]
    }
   ],
   "source": [
    "SEED = 42\n",
    "random.seed(SEED)\n",
    "np.random.seed(SEED)\n",
    "torch.manual_seed(SEED)\n",
    "torch.cuda.manual_seed_all(SEED)\n",
    "\n",
    "if torch.backends.mps.is_available():\n",
    "    device = torch.device(\"mps\")\n",
    "elif torch.cuda.is_available():\n",
    "    device = torch.device(\"cuda\")\n",
    "else:\n",
    "    device = torch.device(\"cpu\")\n",
    "\n",
    "print(f\"Using device: {device}\")"
   ]
  },
  {
   "cell_type": "code",
   "execution_count": 3,
   "id": "1248e5ab",
   "metadata": {},
   "outputs": [],
   "source": [
    "class ThingsEEGDataset(torch.utils.data.Dataset):\n",
    "    def __init__(self, split: str):\n",
    "        super().__init__()\n",
    "        assert split in [\"train\", \"val\", \"test\"], f\"Invalid split: {split}\"\n",
    "        \n",
    "        self.X = torch.from_numpy(np.load(f\"data/{split}/eeg.npy\")).to(torch.float32)\n",
    "        self.subject_idxs = torch.from_numpy(np.load(f\"data/{split}/subject_idxs.npy\"))\n",
    "\n",
    "        if split in [\"train\", \"val\"]:\n",
    "            self.y = torch.from_numpy(np.load(f\"data/{split}/labels.npy\"))\n",
    "        else:\n",
    "            self.y = None # testセットにはラベルがない\n",
    "\n",
    "        print(f\"[{split.upper()} SET] EEG: {self.X.shape}, Subject Indices: {self.subject_idxs.shape}\", end=\"\")\n",
    "        if self.y is not None:\n",
    "            print(f\", Labels: {self.y.shape}\")\n",
    "        else:\n",
    "            print()\n",
    "\n",
    "\n",
    "    def __len__(self):\n",
    "        return len(self.X)\n",
    "\n",
    "    def __getitem__(self, i):\n",
    "        if self.y is not None:\n",
    "            return self.X[i], self.y[i], self.subject_idxs[i]\n",
    "        else:\n",
    "            return self.X[i], self.subject_idxs[i]\n",
    "\n",
    "    @property\n",
    "    def num_classes(self) -> int:\n",
    "        return 5 # animal, food, clothing, tool, vehicle\n",
    "\n",
    "    @property\n",
    "    def num_channels(self) -> int:\n",
    "        return self.X.shape[1]\n",
    "\n",
    "    @property\n",
    "    def seq_len(self) -> int:\n",
    "        return self.X.shape[2]"
   ]
  },
  {
   "cell_type": "code",
   "execution_count": 4,
   "id": "0d3a1e22",
   "metadata": {},
   "outputs": [],
   "source": [
    "class ConvBlock(nn.Module):\n",
    "    def __init__(self, in_dim, out_dim, kernel_size: int = 3, p_drop: float = 0.1):\n",
    "        super().__init__()\n",
    "        self.in_dim = in_dim\n",
    "        self.out_dim = out_dim\n",
    "\n",
    "        self.conv0 = nn.Conv1d(in_dim, out_dim, kernel_size, padding=\"same\")\n",
    "        self.conv1 = nn.Conv1d(out_dim, out_dim, kernel_size, padding=\"same\")\n",
    "        self.batchnorm0 = nn.BatchNorm1d(num_features=out_dim)\n",
    "        self.batchnorm1 = nn.BatchNorm1d(num_features=out_dim)\n",
    "        self.dropout = nn.Dropout(p_drop)\n",
    "\n",
    "    def forward(self, X: torch.Tensor) -> torch.Tensor:\n",
    "        if self.in_dim == self.out_dim:\n",
    "            X_skip = X\n",
    "            X = self.conv0(X)\n",
    "            X = X + X_skip # スキップ接続\n",
    "        else:\n",
    "            X = self.conv0(X)\n",
    "\n",
    "        X = F.gelu(self.batchnorm0(X))\n",
    "        \n",
    "        X_skip = X\n",
    "        X = self.conv1(X)\n",
    "        X = X + X_skip # スキップ接続\n",
    "        X = F.gelu(self.batchnorm1(X))\n",
    "\n",
    "        return self.dropout(X)\n",
    "\n",
    "\n",
    "class BasicConvClassifier(nn.Module):\n",
    "    def __init__(self, num_classes: int, seq_len: int, in_channels: int, hid_dim: int = 128):\n",
    "        super().__init__()\n",
    "        self.blocks = nn.Sequential(\n",
    "            ConvBlock(in_channels, hid_dim),\n",
    "            ConvBlock(hid_dim, hid_dim),\n",
    "        )\n",
    "        self.head = nn.Sequential(\n",
    "            nn.AdaptiveAvgPool1d(1),\n",
    "            Rearrange(\"b d 1 -> b d\"),\n",
    "            nn.Linear(hid_dim, num_classes),\n",
    "        )\n",
    "\n",
    "    def forward(self, X: torch.Tensor) -> torch.Tensor:\n",
    "        X = self.blocks(X)\n",
    "        return self.head(X)"
   ]
  },
  {
   "cell_type": "code",
   "execution_count": 5,
   "id": "2463a270",
   "metadata": {},
   "outputs": [
    {
     "name": "stdout",
     "output_type": "stream",
     "text": [
      "[TRAIN SET] EEG: torch.Size([118800, 17, 100]), Subject Indices: torch.Size([118800]), Labels: torch.Size([118800])\n",
      "[VAL SET] EEG: torch.Size([59400, 17, 100]), Subject Indices: torch.Size([59400]), Labels: torch.Size([59400])\n"
     ]
    }
   ],
   "source": [
    "# ハイパーパラメータ\n",
    "lr = 0.001\n",
    "batch_size = 512\n",
    "epochs = 20\n",
    "\n",
    "# データローダー\n",
    "train_set = ThingsEEGDataset(\"train\")\n",
    "train_loader = DataLoader(train_set, batch_size=batch_size, shuffle=True)\n",
    "\n",
    "val_set = ThingsEEGDataset(\"val\")\n",
    "val_loader = DataLoader(val_set, batch_size=batch_size, shuffle=False)"
   ]
  },
  {
   "cell_type": "code",
   "execution_count": 6,
   "id": "080fcac6",
   "metadata": {},
   "outputs": [],
   "source": [
    "# モデルの初期化\n",
    "model = BasicConvClassifier(\n",
    "    num_classes=train_set.num_classes,\n",
    "    seq_len=train_set.seq_len,\n",
    "    in_channels=train_set.num_channels\n",
    ").to(device)\n",
    "\n",
    "# 評価指標（正解率）\n",
    "def accuracy(y_pred, y):\n",
    "    return (y_pred.argmax(dim=-1) == y).float().mean()\n",
    "\n",
    "# 最適化手法\n",
    "optimizer = torch.optim.Adam(model.parameters(), lr=lr)\n",
    "\n",
    "# TensorBoardの準備\n",
    "writer = SummaryWriter(\"runs/eeg_experiment_1\")"
   ]
  },
  {
   "cell_type": "code",
   "execution_count": 7,
   "id": "8b17d1d5",
   "metadata": {},
   "outputs": [
    {
     "name": "stdout",
     "output_type": "stream",
     "text": [
      "Epoch 1/20\n"
     ]
    },
    {
     "data": {
      "application/vnd.jupyter.widget-view+json": {
       "model_id": "4e8f5ff5a98c4d408c333e1a6a76e423",
       "version_major": 2,
       "version_minor": 0
      },
      "text/plain": [
       "Train:   0%|          | 0/233 [00:00<?, ?it/s]"
      ]
     },
     "metadata": {},
     "output_type": "display_data"
    },
    {
     "data": {
      "application/vnd.jupyter.widget-view+json": {
       "model_id": "98a015041a694fcbbee5d17cc9c2b3f4",
       "version_major": 2,
       "version_minor": 0
      },
      "text/plain": [
       "Validation:   0%|          | 0/117 [00:00<?, ?it/s]"
      ]
     },
     "metadata": {},
     "output_type": "display_data"
    },
    {
     "name": "stdout",
     "output_type": "stream",
     "text": [
      "  Train Loss: 1.4899, Train Acc: 0.3816\n",
      "  Val   Loss: 1.4766, Val   Acc: 0.3924\n",
      "\u001b[36m  New best validation accuracy! Saving model to model_best.pt\u001b[0m\n",
      "Epoch 2/20\n"
     ]
    },
    {
     "data": {
      "application/vnd.jupyter.widget-view+json": {
       "model_id": "d0f449851126424880d0f6ef51ebf70a",
       "version_major": 2,
       "version_minor": 0
      },
      "text/plain": [
       "Train:   0%|          | 0/233 [00:00<?, ?it/s]"
      ]
     },
     "metadata": {},
     "output_type": "display_data"
    },
    {
     "data": {
      "application/vnd.jupyter.widget-view+json": {
       "model_id": "7e2a1deae42b49ec9ed473e19c96b2aa",
       "version_major": 2,
       "version_minor": 0
      },
      "text/plain": [
       "Validation:   0%|          | 0/117 [00:00<?, ?it/s]"
      ]
     },
     "metadata": {},
     "output_type": "display_data"
    },
    {
     "name": "stdout",
     "output_type": "stream",
     "text": [
      "  Train Loss: 1.4808, Train Acc: 0.3865\n",
      "  Val   Loss: 1.4771, Val   Acc: 0.3922\n",
      "Epoch 3/20\n"
     ]
    },
    {
     "data": {
      "application/vnd.jupyter.widget-view+json": {
       "model_id": "2d6d253b2356460ca238a51c4e8c8d4a",
       "version_major": 2,
       "version_minor": 0
      },
      "text/plain": [
       "Train:   0%|          | 0/233 [00:00<?, ?it/s]"
      ]
     },
     "metadata": {},
     "output_type": "display_data"
    },
    {
     "data": {
      "application/vnd.jupyter.widget-view+json": {
       "model_id": "2b029e7429ae4a6b82d8ddb80b0d0321",
       "version_major": 2,
       "version_minor": 0
      },
      "text/plain": [
       "Validation:   0%|          | 0/117 [00:00<?, ?it/s]"
      ]
     },
     "metadata": {},
     "output_type": "display_data"
    },
    {
     "name": "stdout",
     "output_type": "stream",
     "text": [
      "  Train Loss: 1.4774, Train Acc: 0.3873\n",
      "  Val   Loss: 1.4746, Val   Acc: 0.3923\n",
      "Epoch 4/20\n"
     ]
    },
    {
     "data": {
      "application/vnd.jupyter.widget-view+json": {
       "model_id": "73b631cecf8e49d3bc60e4bfeddd807e",
       "version_major": 2,
       "version_minor": 0
      },
      "text/plain": [
       "Train:   0%|          | 0/233 [00:00<?, ?it/s]"
      ]
     },
     "metadata": {},
     "output_type": "display_data"
    },
    {
     "data": {
      "application/vnd.jupyter.widget-view+json": {
       "model_id": "2d8f9e611b4d4fbb82e3ae656b3d918a",
       "version_major": 2,
       "version_minor": 0
      },
      "text/plain": [
       "Validation:   0%|          | 0/117 [00:00<?, ?it/s]"
      ]
     },
     "metadata": {},
     "output_type": "display_data"
    },
    {
     "name": "stdout",
     "output_type": "stream",
     "text": [
      "  Train Loss: 1.4762, Train Acc: 0.3868\n",
      "  Val   Loss: 1.4758, Val   Acc: 0.3918\n",
      "Epoch 5/20\n"
     ]
    },
    {
     "data": {
      "application/vnd.jupyter.widget-view+json": {
       "model_id": "2c5a0879639242e89ebf650df59dcca2",
       "version_major": 2,
       "version_minor": 0
      },
      "text/plain": [
       "Train:   0%|          | 0/233 [00:00<?, ?it/s]"
      ]
     },
     "metadata": {},
     "output_type": "display_data"
    },
    {
     "data": {
      "application/vnd.jupyter.widget-view+json": {
       "model_id": "5c1d847f8bf644bc8dd099fede391878",
       "version_major": 2,
       "version_minor": 0
      },
      "text/plain": [
       "Validation:   0%|          | 0/117 [00:00<?, ?it/s]"
      ]
     },
     "metadata": {},
     "output_type": "display_data"
    },
    {
     "name": "stdout",
     "output_type": "stream",
     "text": [
      "  Train Loss: 1.4745, Train Acc: 0.3869\n",
      "  Val   Loss: 1.4754, Val   Acc: 0.3921\n",
      "Epoch 6/20\n"
     ]
    },
    {
     "data": {
      "application/vnd.jupyter.widget-view+json": {
       "model_id": "b32f7db928fa40c89986a6eea43779ac",
       "version_major": 2,
       "version_minor": 0
      },
      "text/plain": [
       "Train:   0%|          | 0/233 [00:00<?, ?it/s]"
      ]
     },
     "metadata": {},
     "output_type": "display_data"
    },
    {
     "data": {
      "application/vnd.jupyter.widget-view+json": {
       "model_id": "4dba7e2a85d2492886f6e3b2345b9423",
       "version_major": 2,
       "version_minor": 0
      },
      "text/plain": [
       "Validation:   0%|          | 0/117 [00:00<?, ?it/s]"
      ]
     },
     "metadata": {},
     "output_type": "display_data"
    },
    {
     "name": "stdout",
     "output_type": "stream",
     "text": [
      "  Train Loss: 1.4736, Train Acc: 0.3862\n",
      "  Val   Loss: 1.4746, Val   Acc: 0.3917\n",
      "Epoch 7/20\n"
     ]
    },
    {
     "data": {
      "application/vnd.jupyter.widget-view+json": {
       "model_id": "81f5eee5ef4e4c99b38058a0e24556a6",
       "version_major": 2,
       "version_minor": 0
      },
      "text/plain": [
       "Train:   0%|          | 0/233 [00:00<?, ?it/s]"
      ]
     },
     "metadata": {},
     "output_type": "display_data"
    },
    {
     "data": {
      "application/vnd.jupyter.widget-view+json": {
       "model_id": "728fc024b64f44b59534d38b19896327",
       "version_major": 2,
       "version_minor": 0
      },
      "text/plain": [
       "Validation:   0%|          | 0/117 [00:00<?, ?it/s]"
      ]
     },
     "metadata": {},
     "output_type": "display_data"
    },
    {
     "name": "stdout",
     "output_type": "stream",
     "text": [
      "  Train Loss: 1.4709, Train Acc: 0.3877\n",
      "  Val   Loss: 1.4777, Val   Acc: 0.3865\n",
      "Epoch 8/20\n"
     ]
    },
    {
     "data": {
      "application/vnd.jupyter.widget-view+json": {
       "model_id": "b0e8ad72098a4536b255d5a61d67dbe6",
       "version_major": 2,
       "version_minor": 0
      },
      "text/plain": [
       "Train:   0%|          | 0/233 [00:00<?, ?it/s]"
      ]
     },
     "metadata": {},
     "output_type": "display_data"
    },
    {
     "data": {
      "application/vnd.jupyter.widget-view+json": {
       "model_id": "3d7fbd8e1185473c9a3c4ae5b48e0b29",
       "version_major": 2,
       "version_minor": 0
      },
      "text/plain": [
       "Validation:   0%|          | 0/117 [00:00<?, ?it/s]"
      ]
     },
     "metadata": {},
     "output_type": "display_data"
    },
    {
     "name": "stdout",
     "output_type": "stream",
     "text": [
      "  Train Loss: 1.4689, Train Acc: 0.3872\n",
      "  Val   Loss: 1.4758, Val   Acc: 0.3896\n",
      "Epoch 9/20\n"
     ]
    },
    {
     "data": {
      "application/vnd.jupyter.widget-view+json": {
       "model_id": "4ad7327d13fc41ab940ba5d97c2bfd62",
       "version_major": 2,
       "version_minor": 0
      },
      "text/plain": [
       "Train:   0%|          | 0/233 [00:00<?, ?it/s]"
      ]
     },
     "metadata": {},
     "output_type": "display_data"
    },
    {
     "data": {
      "application/vnd.jupyter.widget-view+json": {
       "model_id": "168045ff302049d0b650526b3d5d7e21",
       "version_major": 2,
       "version_minor": 0
      },
      "text/plain": [
       "Validation:   0%|          | 0/117 [00:00<?, ?it/s]"
      ]
     },
     "metadata": {},
     "output_type": "display_data"
    },
    {
     "name": "stdout",
     "output_type": "stream",
     "text": [
      "  Train Loss: 1.4662, Train Acc: 0.3882\n",
      "  Val   Loss: 1.4759, Val   Acc: 0.3911\n",
      "Epoch 10/20\n"
     ]
    },
    {
     "data": {
      "application/vnd.jupyter.widget-view+json": {
       "model_id": "0c23f8e749cb4dc79e0f68b1f3af382b",
       "version_major": 2,
       "version_minor": 0
      },
      "text/plain": [
       "Train:   0%|          | 0/233 [00:00<?, ?it/s]"
      ]
     },
     "metadata": {},
     "output_type": "display_data"
    },
    {
     "data": {
      "application/vnd.jupyter.widget-view+json": {
       "model_id": "7b5d02e8049b4b95b60b0d568cf63c6d",
       "version_major": 2,
       "version_minor": 0
      },
      "text/plain": [
       "Validation:   0%|          | 0/117 [00:00<?, ?it/s]"
      ]
     },
     "metadata": {},
     "output_type": "display_data"
    },
    {
     "name": "stdout",
     "output_type": "stream",
     "text": [
      "  Train Loss: 1.4648, Train Acc: 0.3879\n",
      "  Val   Loss: 1.4771, Val   Acc: 0.3862\n",
      "Epoch 11/20\n"
     ]
    },
    {
     "data": {
      "application/vnd.jupyter.widget-view+json": {
       "model_id": "998d06fd87014c3c93afb5a57193916e",
       "version_major": 2,
       "version_minor": 0
      },
      "text/plain": [
       "Train:   0%|          | 0/233 [00:00<?, ?it/s]"
      ]
     },
     "metadata": {},
     "output_type": "display_data"
    },
    {
     "data": {
      "application/vnd.jupyter.widget-view+json": {
       "model_id": "3c9dde38cbcd4fc993b6eaf0d449e644",
       "version_major": 2,
       "version_minor": 0
      },
      "text/plain": [
       "Validation:   0%|          | 0/117 [00:00<?, ?it/s]"
      ]
     },
     "metadata": {},
     "output_type": "display_data"
    },
    {
     "name": "stdout",
     "output_type": "stream",
     "text": [
      "  Train Loss: 1.4631, Train Acc: 0.3882\n",
      "  Val   Loss: 1.4792, Val   Acc: 0.3866\n",
      "Epoch 12/20\n"
     ]
    },
    {
     "data": {
      "application/vnd.jupyter.widget-view+json": {
       "model_id": "9d598ce519084122a9d7fc71ea0e3bf5",
       "version_major": 2,
       "version_minor": 0
      },
      "text/plain": [
       "Train:   0%|          | 0/233 [00:00<?, ?it/s]"
      ]
     },
     "metadata": {},
     "output_type": "display_data"
    },
    {
     "data": {
      "application/vnd.jupyter.widget-view+json": {
       "model_id": "c0570b3cf5ac4331a665ac6a7df97ee6",
       "version_major": 2,
       "version_minor": 0
      },
      "text/plain": [
       "Validation:   0%|          | 0/117 [00:00<?, ?it/s]"
      ]
     },
     "metadata": {},
     "output_type": "display_data"
    },
    {
     "name": "stdout",
     "output_type": "stream",
     "text": [
      "  Train Loss: 1.4599, Train Acc: 0.3895\n",
      "  Val   Loss: 1.4744, Val   Acc: 0.3917\n",
      "Epoch 13/20\n"
     ]
    },
    {
     "data": {
      "application/vnd.jupyter.widget-view+json": {
       "model_id": "d76c3a4223e949a49cf3bbb579e7952b",
       "version_major": 2,
       "version_minor": 0
      },
      "text/plain": [
       "Train:   0%|          | 0/233 [00:00<?, ?it/s]"
      ]
     },
     "metadata": {},
     "output_type": "display_data"
    },
    {
     "data": {
      "application/vnd.jupyter.widget-view+json": {
       "model_id": "68c9ffd61383443686992d0044b69b9c",
       "version_major": 2,
       "version_minor": 0
      },
      "text/plain": [
       "Validation:   0%|          | 0/117 [00:00<?, ?it/s]"
      ]
     },
     "metadata": {},
     "output_type": "display_data"
    },
    {
     "name": "stdout",
     "output_type": "stream",
     "text": [
      "  Train Loss: 1.4575, Train Acc: 0.3888\n",
      "  Val   Loss: 1.4767, Val   Acc: 0.3881\n",
      "Epoch 14/20\n"
     ]
    },
    {
     "data": {
      "application/vnd.jupyter.widget-view+json": {
       "model_id": "fa9eafb85d4e4682aa2b91b6cc358de5",
       "version_major": 2,
       "version_minor": 0
      },
      "text/plain": [
       "Train:   0%|          | 0/233 [00:00<?, ?it/s]"
      ]
     },
     "metadata": {},
     "output_type": "display_data"
    },
    {
     "data": {
      "application/vnd.jupyter.widget-view+json": {
       "model_id": "551c226022f649e0a8dc4c1b783d57b3",
       "version_major": 2,
       "version_minor": 0
      },
      "text/plain": [
       "Validation:   0%|          | 0/117 [00:00<?, ?it/s]"
      ]
     },
     "metadata": {},
     "output_type": "display_data"
    },
    {
     "name": "stdout",
     "output_type": "stream",
     "text": [
      "  Train Loss: 1.4549, Train Acc: 0.3909\n",
      "  Val   Loss: 1.4790, Val   Acc: 0.3845\n",
      "Epoch 15/20\n"
     ]
    },
    {
     "data": {
      "application/vnd.jupyter.widget-view+json": {
       "model_id": "b185ffe3be724537bfafadfc94622a68",
       "version_major": 2,
       "version_minor": 0
      },
      "text/plain": [
       "Train:   0%|          | 0/233 [00:00<?, ?it/s]"
      ]
     },
     "metadata": {},
     "output_type": "display_data"
    },
    {
     "data": {
      "application/vnd.jupyter.widget-view+json": {
       "model_id": "89d32867099744b4b481bd7a534d0339",
       "version_major": 2,
       "version_minor": 0
      },
      "text/plain": [
       "Validation:   0%|          | 0/117 [00:00<?, ?it/s]"
      ]
     },
     "metadata": {},
     "output_type": "display_data"
    },
    {
     "name": "stdout",
     "output_type": "stream",
     "text": [
      "  Train Loss: 1.4506, Train Acc: 0.3922\n",
      "  Val   Loss: 1.4805, Val   Acc: 0.3824\n",
      "Epoch 16/20\n"
     ]
    },
    {
     "data": {
      "application/vnd.jupyter.widget-view+json": {
       "model_id": "9e6cc8d0d82b422e9b27cd85a352f81e",
       "version_major": 2,
       "version_minor": 0
      },
      "text/plain": [
       "Train:   0%|          | 0/233 [00:00<?, ?it/s]"
      ]
     },
     "metadata": {},
     "output_type": "display_data"
    },
    {
     "data": {
      "application/vnd.jupyter.widget-view+json": {
       "model_id": "88ac935c43fb4a5f87d0838b86d37f66",
       "version_major": 2,
       "version_minor": 0
      },
      "text/plain": [
       "Validation:   0%|          | 0/117 [00:00<?, ?it/s]"
      ]
     },
     "metadata": {},
     "output_type": "display_data"
    },
    {
     "name": "stdout",
     "output_type": "stream",
     "text": [
      "  Train Loss: 1.4470, Train Acc: 0.3933\n",
      "  Val   Loss: 1.4831, Val   Acc: 0.3850\n",
      "Epoch 17/20\n"
     ]
    },
    {
     "data": {
      "application/vnd.jupyter.widget-view+json": {
       "model_id": "9127c265d8ee4f54932e92502c431cab",
       "version_major": 2,
       "version_minor": 0
      },
      "text/plain": [
       "Train:   0%|          | 0/233 [00:00<?, ?it/s]"
      ]
     },
     "metadata": {},
     "output_type": "display_data"
    },
    {
     "data": {
      "application/vnd.jupyter.widget-view+json": {
       "model_id": "d4275b820eb648cda3c1dee8839fe5ab",
       "version_major": 2,
       "version_minor": 0
      },
      "text/plain": [
       "Validation:   0%|          | 0/117 [00:00<?, ?it/s]"
      ]
     },
     "metadata": {},
     "output_type": "display_data"
    },
    {
     "name": "stdout",
     "output_type": "stream",
     "text": [
      "  Train Loss: 1.4442, Train Acc: 0.3939\n",
      "  Val   Loss: 1.4871, Val   Acc: 0.3788\n",
      "Epoch 18/20\n"
     ]
    },
    {
     "data": {
      "application/vnd.jupyter.widget-view+json": {
       "model_id": "eb6da96a0098496db22c367da6f54cc9",
       "version_major": 2,
       "version_minor": 0
      },
      "text/plain": [
       "Train:   0%|          | 0/233 [00:00<?, ?it/s]"
      ]
     },
     "metadata": {},
     "output_type": "display_data"
    },
    {
     "data": {
      "application/vnd.jupyter.widget-view+json": {
       "model_id": "5aaf86deca4440dd8f1eb8ab391ac0a0",
       "version_major": 2,
       "version_minor": 0
      },
      "text/plain": [
       "Validation:   0%|          | 0/117 [00:00<?, ?it/s]"
      ]
     },
     "metadata": {},
     "output_type": "display_data"
    },
    {
     "name": "stdout",
     "output_type": "stream",
     "text": [
      "  Train Loss: 1.4389, Train Acc: 0.3955\n",
      "  Val   Loss: 1.4889, Val   Acc: 0.3735\n",
      "Epoch 19/20\n"
     ]
    },
    {
     "data": {
      "application/vnd.jupyter.widget-view+json": {
       "model_id": "28b4acfbf8e746f8a83a50082c292239",
       "version_major": 2,
       "version_minor": 0
      },
      "text/plain": [
       "Train:   0%|          | 0/233 [00:00<?, ?it/s]"
      ]
     },
     "metadata": {},
     "output_type": "display_data"
    },
    {
     "data": {
      "application/vnd.jupyter.widget-view+json": {
       "model_id": "6b200d429b1244008b12817bae67d925",
       "version_major": 2,
       "version_minor": 0
      },
      "text/plain": [
       "Validation:   0%|          | 0/117 [00:00<?, ?it/s]"
      ]
     },
     "metadata": {},
     "output_type": "display_data"
    },
    {
     "name": "stdout",
     "output_type": "stream",
     "text": [
      "  Train Loss: 1.4353, Train Acc: 0.3984\n",
      "  Val   Loss: 1.4893, Val   Acc: 0.3798\n",
      "Epoch 20/20\n"
     ]
    },
    {
     "data": {
      "application/vnd.jupyter.widget-view+json": {
       "model_id": "5a9e726ffc9546d3a6762a7134ae4ed9",
       "version_major": 2,
       "version_minor": 0
      },
      "text/plain": [
       "Train:   0%|          | 0/233 [00:00<?, ?it/s]"
      ]
     },
     "metadata": {},
     "output_type": "display_data"
    },
    {
     "data": {
      "application/vnd.jupyter.widget-view+json": {
       "model_id": "45b6fce80ce94ccf885c720dfc6c1473",
       "version_major": 2,
       "version_minor": 0
      },
      "text/plain": [
       "Validation:   0%|          | 0/117 [00:00<?, ?it/s]"
      ]
     },
     "metadata": {},
     "output_type": "display_data"
    },
    {
     "name": "stdout",
     "output_type": "stream",
     "text": [
      "  Train Loss: 1.4291, Train Acc: 0.4017\n",
      "  Val   Loss: 1.4934, Val   Acc: 0.3754\n",
      "\n",
      "Training finished.\n"
     ]
    }
   ],
   "source": [
    "max_val_acc = 0.0\n",
    "\n",
    "for epoch in range(epochs):\n",
    "    print(f\"Epoch {epoch+1}/{epochs}\")\n",
    "    \n",
    "    # ------ 訓練 ------\n",
    "    model.train()\n",
    "    train_loss_list, train_acc_list = [], []\n",
    "    for X, y, subject_idxs in tqdm(train_loader, desc=\"Train\"):\n",
    "        X, y = X.to(device), y.to(device)\n",
    "        \n",
    "        y_pred = model(X)\n",
    "        loss = F.cross_entropy(y_pred, y)\n",
    "        \n",
    "        optimizer.zero_grad()\n",
    "        loss.backward()\n",
    "        optimizer.step()\n",
    "        \n",
    "        train_loss_list.append(loss.item())\n",
    "        train_acc_list.append(accuracy(y_pred, y).item())\n",
    "\n",
    "    avg_train_loss = np.mean(train_loss_list)\n",
    "    avg_train_acc = np.mean(train_acc_list)\n",
    "\n",
    "    # ------ 検証 ------\n",
    "    model.eval()\n",
    "    val_loss_list, val_acc_list = [], []\n",
    "    with torch.no_grad():\n",
    "        for X, y, subject_idxs in tqdm(val_loader, desc=\"Validation\"):\n",
    "            X, y = X.to(device), y.to(device)\n",
    "            y_pred = model(X)\n",
    "            loss = F.cross_entropy(y_pred, y)\n",
    "            val_loss_list.append(loss.item())\n",
    "            val_acc_list.append(accuracy(y_pred, y).item())\n",
    "            \n",
    "    avg_val_loss = np.mean(val_loss_list)\n",
    "    avg_val_acc = np.mean(val_acc_list)\n",
    "\n",
    "    # --- ログ表示 & TensorBoard記録 ---\n",
    "    print(f\"  Train Loss: {avg_train_loss:.4f}, Train Acc: {avg_train_acc:.4f}\")\n",
    "    print(f\"  Val   Loss: {avg_val_loss:.4f}, Val   Acc: {avg_val_acc:.4f}\")\n",
    "\n",
    "    writer.add_scalar(\"Loss/train\", avg_train_loss, epoch)\n",
    "    writer.add_scalar(\"Accuracy/train\", avg_train_acc, epoch)\n",
    "    writer.add_scalar(\"Loss/val\", avg_val_loss, epoch)\n",
    "    writer.add_scalar(\"Accuracy/val\", avg_val_acc, epoch)\n",
    "\n",
    "    # --- モデルのベストパラメータを保存 ---\n",
    "    if avg_val_acc > max_val_acc:\n",
    "        cprint(f\"  New best validation accuracy! Saving model to model_best.pt\", \"cyan\")\n",
    "        torch.save(model.state_dict(), \"model_best.pt\")\n",
    "        max_val_acc = avg_val_acc\n",
    "\n",
    "writer.close()\n",
    "print(\"\\nTraining finished.\")"
   ]
  },
  {
   "cell_type": "code",
   "execution_count": 8,
   "id": "0aafc28b",
   "metadata": {},
   "outputs": [
    {
     "name": "stdout",
     "output_type": "stream",
     "text": [
      "[TEST SET] EEG: torch.Size([59400, 17, 100]), Subject Indices: torch.Size([59400])\n",
      "Best model weights loaded.\n"
     ]
    },
    {
     "name": "stderr",
     "output_type": "stream",
     "text": [
      "/var/folders/ps/pftl20sn6t563rd47ngx0_f40000gn/T/ipykernel_80322/3993394019.py:11: FutureWarning: You are using `torch.load` with `weights_only=False` (the current default value), which uses the default pickle module implicitly. It is possible to construct malicious pickle data which will execute arbitrary code during unpickling (See https://github.com/pytorch/pytorch/blob/main/SECURITY.md#untrusted-models for more details). In a future release, the default value for `weights_only` will be flipped to `True`. This limits the functions that could be executed during unpickling. Arbitrary objects will no longer be allowed to be loaded via this mode unless they are explicitly allowlisted by the user via `torch.serialization.add_safe_globals`. We recommend you start setting `weights_only=True` for any use case where you don't have full control of the loaded file. Please open an issue on GitHub for any issues related to this experimental feature.\n",
      "  model.load_state_dict(torch.load(\"model_best.pt\", map_location=device))\n"
     ]
    },
    {
     "data": {
      "application/vnd.jupyter.widget-view+json": {
       "model_id": "05dc66cdcb874c4ca93bb2e4af955a59",
       "version_major": 2,
       "version_minor": 0
      },
      "text/plain": [
       "Evaluation:   0%|          | 0/117 [00:00<?, ?it/s]"
      ]
     },
     "metadata": {},
     "output_type": "display_data"
    },
    {
     "name": "stdout",
     "output_type": "stream",
     "text": [
      "\n",
      "Submission file 'submission.npy' saved with shape: (59400, 5)\n"
     ]
    }
   ],
   "source": [
    "test_set = ThingsEEGDataset(\"test\")\n",
    "test_loader = DataLoader(test_set, batch_size=batch_size, shuffle=False)\n",
    "\n",
    "\n",
    "model = BasicConvClassifier(\n",
    "    num_classes=test_set.num_classes,\n",
    "    seq_len=test_set.seq_len,\n",
    "    in_channels=test_set.num_channels\n",
    ").to(device)\n",
    "\n",
    "model.load_state_dict(torch.load(\"model_best.pt\", map_location=device))\n",
    "print(\"Best model weights loaded.\")\n",
    "\n",
    "preds = []\n",
    "model.eval()\n",
    "with torch.no_grad(): \n",
    "    for X, subject_idxs in tqdm(test_loader, desc=\"Evaluation\"):\n",
    "        X = X.to(device)\n",
    "        y_pred = model(X)\n",
    "        preds.append(y_pred.detach().cpu()) # 予測結果をCPUに移してから保存\n",
    "\n",
    "# 全ての予測結果を一つのテンサーに結合し、NumPy配列に変換\n",
    "preds = torch.cat(preds, dim=0).numpy()\n",
    "\n",
    "# 提出用ファイルとして保存\n",
    "np.save(\"submission.npy\", preds)\n",
    "print(f\"\\nSubmission file 'submission.npy' saved with shape: {preds.shape}\")"
   ]
  }
 ],
 "metadata": {
  "kernelspec": {
   "display_name": "dl_project",
   "language": "python",
   "name": "python3"
  },
  "language_info": {
   "codemirror_mode": {
    "name": "ipython",
    "version": 3
   },
   "file_extension": ".py",
   "mimetype": "text/x-python",
   "name": "python",
   "nbconvert_exporter": "python",
   "pygments_lexer": "ipython3",
   "version": "3.11.13"
  }
 },
 "nbformat": 4,
 "nbformat_minor": 5
}
